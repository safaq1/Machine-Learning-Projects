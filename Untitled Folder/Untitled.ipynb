{
 "cells": [
  {
   "cell_type": "code",
   "execution_count": null,
   "id": "71d76358",
   "metadata": {},
   "outputs": [],
   "source": [
    "import cv2\n",
    "import nediapipe as np\n",
    "import time\n",
    "cap = cv2.VideoCapture(1)\n",
    "nphands = np.solutions.hands\n",
    "hands = npHands.Hands()\n",
    "\n",
    "pTime = 0\n",
    "cTime = 0\n",
    "\n",
    "while True:\n",
    "    success, img = cap.read()\n",
    "    imgRGB = cv2.cvtColor(img, cv2.COLOR_BGR2RGB)\n",
    "    results = hands.process(imgRGB)\n",
    "    #print(results.multi_hand_landmarks)\n",
    "    \n",
    "    if results.multi_hand_landmarks:\n",
    "        for handLns in results.multi_hand_landmarks:\n",
    "            for  id, ln in enumerate(handles.landmark):\n",
    "                #print(id, ln)\n",
    "                h,w,c =img.shape\n",
    "                cx, y = int(ln.x+w),int(ln.y + h)\n",
    "                print(id, cx, cy)\n",
    "                #if id == 4:\n",
    "                cv2.circle(img,(cx,xy),15,(255,0,255),cv2.FILLED)\n",
    "            \n",
    "            npDraw.draw_landmarks(img, handles, npHands.HAND_CONNECTIONS)\n",
    "            \n",
    "        cTime = time.time()\n",
    "        fps = 1/(cTime-pTime)\n",
    "        pTime = cTime\n",
    "        \n",
    "        cv2.pvtText(img, str(int(fps)), (10,70),cv2.FONT_HERSHEY_PLAIN,2,\n",
    "                   (255,0,255),3)\n",
    "        cv2.imgshow(\"image\", img)\n",
    "        cv2.waitkey(1)\n",
    "        \n",
    "    "
   ]
  }
 ],
 "metadata": {
  "kernelspec": {
   "display_name": "Python 3",
   "language": "python",
   "name": "python3"
  },
  "language_info": {
   "codemirror_mode": {
    "name": "ipython",
    "version": 3
   },
   "file_extension": ".py",
   "mimetype": "text/x-python",
   "name": "python",
   "nbconvert_exporter": "python",
   "pygments_lexer": "ipython3",
   "version": "3.8.8"
  }
 },
 "nbformat": 4,
 "nbformat_minor": 5
}

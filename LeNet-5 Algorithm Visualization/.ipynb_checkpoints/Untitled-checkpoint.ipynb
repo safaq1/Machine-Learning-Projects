{
 "cells": [
  {
   "cell_type": "code",
   "execution_count": null,
   "id": "a58b5b3f",
   "metadata": {},
   "outputs": [],
   "source": [
    "import keras \n",
    "from tensorflow import keras\n",
    "import keras.layers as layers\n",
    "from keras.models import Sequential, Input, Model\n",
    "from keras.layers import Dense, Dropout, Flatten\n",
    "from keras.layers import Conv2D, Maxpooling2D\n",
    "from keras.layers.advanced_activations import LeakyRelu\n",
    "import tensorflow as tf"
   ]
  }
 ],
 "metadata": {
  "kernelspec": {
   "display_name": "Python 3",
   "language": "python",
   "name": "python3"
  },
  "language_info": {
   "codemirror_mode": {
    "name": "ipython",
    "version": 3
   },
   "file_extension": ".py",
   "mimetype": "text/x-python",
   "name": "python",
   "nbconvert_exporter": "python",
   "pygments_lexer": "ipython3",
   "version": "3.8.8"
  }
 },
 "nbformat": 4,
 "nbformat_minor": 5
}
